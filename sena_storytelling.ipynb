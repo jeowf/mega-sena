{
 "cells": [
  {
   "cell_type": "markdown",
   "metadata": {},
   "source": [
    "# MegaSena Storytelling\n",
    "\n",
    "- **Aluno**: Felipe Morais da Silva\n",
    "- **Matrícula**: 20170062872  "
   ]
  },
  {
   "cell_type": "markdown",
   "metadata": {},
   "source": [
    "## Cenário\n",
    "\n",
    "Imaginem que vocês foram selecionados para uma entrevista de emprego para o cargo de **Cientista de Dados** de uma grande empresa multinacional. A seleção será baseada em vários critérios, destacando as seguintes habilidades: resolução de problemas, criatividade, interpretação, escrita, organização, inovação, proeficiência em pandas, análise exploratória de dados e storytelling. Foi passado para vocês o dataset contendo todos os resultados da Megasena (*baseados.xlsx*), o **desafio** consiste em **interpretar** esses dados e **criar um significado** de entendimento conciso e claro.\n",
    "\n",
    "## Requisitos\n",
    "\n",
    "Para realizar a atividade, é necessário:\n",
    "\n",
    " - Utilizar apenas o dataset disponibilizado para essa atividade.\n",
    " - Criar um repositório no Github para a atividade.\n",
    " - Enviar apenas o link do respectivo repositório.\n",
    " - Criar um notebook descrevendo todos os códigos realizados. \n",
    " - Todos os códigos precisam estar bem documentados.\n",
    " - Vocês precisam gerar no máximo 4 figuras.\n",
    " - Cada figura deve acompanhar uma célula com um texto descritivo, demonstrando todo o resultado encontrado. \n",
    " - Seja inovador."
   ]
  },
  {
   "cell_type": "markdown",
   "metadata": {
    "collapsed": true
   },
   "source": [
    "## A Mega-Sena\n",
    "\n",
    "A [Mega-Sena](https://pt.wikipedia.org/wiki/Mega-Sena) é uma entre as dez modalidades atuais das loterias da Caixa Econômica Federal com sorteios ordinários, duas vezes por semana. Para jogar na Mega-Sena, é necessário escolher **6 números** de **1 a 60** e, caso haja coinciência entre os 6 valores jogados com os 6 valores sorteados, independentemente da ordem, o jogador poderá ganhar o prêmio máximo. Há a possibilidade de ganhar parte do prêmio, caso o jogador acerte menos dezenas.\n",
    "\n",
    "Para determinar o [valor dos prêmios](https://www.infoescola.com/curiosidades/mega-sena/), o prêmio final é distribuído da seguinte forma:\n",
    "\n",
    " - 35% do total para a Sena;\n",
    " - 19% do total para a Quina;\n",
    " - 19% do total para a Quadra;\n",
    " - 22% é acumulado para o próximo sorteio.\n",
    "\n",
    "Para apostar na Mega-Sena, o jogador deve comprar um bilhete por RS 3,50 e preencher seus números. Hoje (24/04/2018), a estimativa do [prêmio total](http://loterias.caixa.gov.br/wps/portal/loterias/landing/megasena/) para o próximo concurso é de RS 3.000.000,00.\n",
    "\n",
    "Ou seja, com um pequeno investimento de RS 3,50 é possível ganhar mais de 1 milhão de reais. Parece incrível, não? Mas é claro que não é tão simples assim, afinal, não vemos novos milionários todos os dias. \n",
    "\n",
    "Então, qual seria a real probabilidade de ganhar a sena?\n",
    "\n",
    "A resposta é dada com base no simples princípio multiplicativo. Para a escolha do primeiro número existirão 60 possibilidades; para o segundo, 59; para o terceiro, 58, e assim por diante. \n",
    "\n",
    "Assim, temos\n",
    "\n",
    "> 60 x 59 x 58 x 57 x 56 x 55 = **36.045.979.200**\n",
    "\n",
    "possibilidades de jogos. Porém, como a ordem não importa, é necessário dividir esse valor pela **permutação dos 6 números**, isto é, por **6!**.\n",
    "\n",
    "> **jogos totais** = (36.045.979.200 / 6!) = 50.063.860\n",
    "\n",
    "Ou seja, a chance de acertar uma sena é de **1 em 50 milhões** (ou ainda, 2e-8)."
   ]
  },
  {
   "cell_type": "markdown",
   "metadata": {},
   "source": [
    "## Discussão\n",
    "\n",
    "No decorrer deste trabalho, meu objetivo investigar se é possível encontrar uma sequência de números que possua maior possibilidade de vitória.\n",
    "\n",
    "Para isso, iremos utilizar dados, disponibilizados pela própria Caixa, relativos a todos seus concursos, desde o primeiro até o mais recente."
   ]
  },
  {
   "cell_type": "code",
   "execution_count": null,
   "metadata": {
    "scrolled": true
   },
   "outputs": [],
   "source": [
    "# Instala as bibliotecas, caso ainda não tenham sido instaladas\n",
    "\n",
    "!pip install pandas\n",
    "!pip install matplotlib\n",
    "!pip install xlrd"
   ]
  },
  {
   "cell_type": "code",
   "execution_count": 24,
   "metadata": {},
   "outputs": [],
   "source": [
    "# Importar as bibliotecas necessárias\n",
    "import pandas as pd\n",
    "import matplotlib.pyplot as plt\n",
    "%matplotlib inline"
   ]
  },
  {
   "cell_type": "code",
   "execution_count": 23,
   "metadata": {
    "scrolled": true
   },
   "outputs": [],
   "source": [
    "# Atribuir o nome da planilha para a variável \"arquivo\"\n",
    "arquivo = 'basedados.xlsx'\n",
    "# Carregar a base de dados para um objeto pandas.io.excel.ExcelFile\n",
    "excel = pd.ExcelFile(arquivo)\n",
    "# Carregar a planilha excel para um objeto dataframe\n",
    "dados = excel.parse(0)\n",
    "# Imprimir as cinco primeiras linhas do dataframe\n",
    "columns = ['Concurso', 'Data Sorteio', 'Dezena1', 'Dezena2', 'Dezena3', 'Dezena4',\n",
    "       'Dezena5', 'Dezena6', 'Arrecadacao_Total', 'Ganhadores_Sena',\n",
    "       'Rateio_Sena', 'Acumulado', 'Valor_Acumulado', 'Estimativa_Prêmio']"
   ]
  },
  {
   "cell_type": "markdown",
   "metadata": {},
   "source": [
    "Ao todo, foram realizados "
   ]
  },
  {
   "cell_type": "code",
   "execution_count": 25,
   "metadata": {},
   "outputs": [
    {
     "data": {
      "text/plain": [
       "2051325"
      ]
     },
     "execution_count": 25,
     "metadata": {},
     "output_type": "execute_result"
    }
   ],
   "source": [
    "dados.Concurso.sum()"
   ]
  },
  {
   "cell_type": "markdown",
   "metadata": {},
   "source": [
    "concursos, dos quais, apenas "
   ]
  },
  {
   "cell_type": "code",
   "execution_count": 26,
   "metadata": {
    "scrolled": true
   },
   "outputs": [
    {
     "data": {
      "text/plain": [
       "691"
      ]
     },
     "execution_count": 26,
     "metadata": {},
     "output_type": "execute_result"
    }
   ],
   "source": [
    "dados.Ganhadores_Sena.sum()"
   ]
  },
  {
   "cell_type": "markdown",
   "metadata": {},
   "source": [
    "pessoas ganharam o prêmio máximo, isto é, a sena.\n",
    "\n",
    "A base de dados não informa quantas apostas foram feitas por concurso, porém, com base na quantidade de vencedores (691) é possível estimar, de forma grosseira, a quantidade de tentativas não repetidas no decorrer dos concursos"
   ]
  },
  {
   "cell_type": "code",
   "execution_count": 28,
   "metadata": {},
   "outputs": [
    {
     "data": {
      "text/plain": [
       "34550000000"
      ]
     },
     "execution_count": 28,
     "metadata": {},
     "output_type": "execute_result"
    }
   ],
   "source": [
    "dados.Ganhadores_Sena.sum() * 50000000"
   ]
  },
  {
   "cell_type": "markdown",
   "metadata": {},
   "source": [
    "Para procurar por uma sequência com maior probabilidade de acerto, é necessário analisar a frequência de cada dezena"
   ]
  },
  {
   "cell_type": "code",
   "execution_count": 83,
   "metadata": {},
   "outputs": [],
   "source": [
    "# Pega os números mais recorrentes\n",
    "frequency_numbers = dados.iloc[:,2:8].unstack().value_counts()\n",
    "\n",
    "# Atribui as colunas à a referentes aos valores e índices\n",
    "a = pd.DataFrame()\n",
    "a['fn'] = frequency_numbers\n",
    "a['idx'] = frequency_numbers.index\n",
    "\n",
    "# Reordena os valores de forma decrescente (com base no índice)\n",
    "a = a.sort_values(by=['idx'])\n"
   ]
  },
  {
   "cell_type": "code",
   "execution_count": 84,
   "metadata": {
    "scrolled": false
   },
   "outputs": [
    {
     "data": {
      "image/png": "[encoded data removed]",
      "text/plain": [
       "<matplotlib.figure.Figure at 0x207615600b8>"
      ]
     },
     "metadata": {},
     "output_type": "display_data"
    }
   ],
   "source": [
    "# Plota o gráfico da recorrência dos valores da dezena\n",
    "plt.plot(a.idx, \n",
    "         a.fn, c='blue', label='Frequência')\n",
    "plt.legend(loc='upper right')\n",
    "plt.title('Recorrência da dezena na sena')\n",
    "plt.show()"
   ]
  },
  {
   "cell_type": "markdown",
   "metadata": {},
   "source": [
    "Na figura acima, é possível observar que a frequência de cada dezena possui uma variação aceitável, no intervalo [164, 233], cuja média é 202."
   ]
  },
  {
   "cell_type": "code",
   "execution_count": 74,
   "metadata": {},
   "outputs": [
    {
     "data": {
      "text/plain": [
       "164"
      ]
     },
     "execution_count": 74,
     "metadata": {},
     "output_type": "execute_result"
    }
   ],
   "source": [
    "a.fn.min() # menor frequência"
   ]
  },
  {
   "cell_type": "code",
   "execution_count": 75,
   "metadata": {},
   "outputs": [
    {
     "data": {
      "text/plain": [
       "233"
      ]
     },
     "execution_count": 75,
     "metadata": {},
     "output_type": "execute_result"
    }
   ],
   "source": [
    "a.fn.max() # maior frequência"
   ]
  },
  {
   "cell_type": "code",
   "execution_count": 77,
   "metadata": {
    "scrolled": false
   },
   "outputs": [
    {
     "data": {
      "text/plain": [
       "202.5"
      ]
     },
     "execution_count": 77,
     "metadata": {},
     "output_type": "execute_result"
    }
   ],
   "source": [
    "a.fn.mean() # média"
   ]
  },
  {
   "cell_type": "markdown",
   "metadata": {},
   "source": [
    "Note que, com uma quantidade de concursos tendendo a infinito, as frequências das dezenas devem se estabilizar por igual, por meio de uma [convergência](http://www.portalaction.com.br/probabilidades/711-convergencias-em-probabilidade-e-quase-certa).\n",
    "\n",
    "Assim, de forma simplificada, é razoável imaginar que, quanto menor a frequência de uma dezena, maior será sua chance de ser a próxima a ser escolhida."
   ]
  },
  {
   "cell_type": "code",
   "execution_count": 89,
   "metadata": {},
   "outputs": [
    {
     "data": {
      "text/html": [
       "<div>\n",
       "<style scoped>\n",
       "    .dataframe tbody tr th:only-of-type {\n",
       "        vertical-align: middle;\n",
       "    }\n",
       "\n",
       "    .dataframe tbody tr th {\n",
       "        vertical-align: top;\n",
       "    }\n",
       "\n",
       "    .dataframe thead th {\n",
       "        text-align: right;\n",
       "    }\n",
       "</style>\n",
       "<table border=\"1\" class=\"dataframe\">\n",
       "  <thead>\n",
       "    <tr style=\"text-align: right;\">\n",
       "      <th></th>\n",
       "      <th>fn</th>\n",
       "      <th>idx</th>\n",
       "    </tr>\n",
       "  </thead>\n",
       "  <tbody>\n",
       "    <tr>\n",
       "      <th>26</th>\n",
       "      <td>164</td>\n",
       "      <td>26</td>\n",
       "    </tr>\n",
       "    <tr>\n",
       "      <th>55</th>\n",
       "      <td>174</td>\n",
       "      <td>55</td>\n",
       "    </tr>\n",
       "    <tr>\n",
       "      <th>22</th>\n",
       "      <td>177</td>\n",
       "      <td>22</td>\n",
       "    </tr>\n",
       "    <tr>\n",
       "      <th>21</th>\n",
       "      <td>178</td>\n",
       "      <td>21</td>\n",
       "    </tr>\n",
       "    <tr>\n",
       "      <th>15</th>\n",
       "      <td>183</td>\n",
       "      <td>15</td>\n",
       "    </tr>\n",
       "    <tr>\n",
       "      <th>9</th>\n",
       "      <td>183</td>\n",
       "      <td>9</td>\n",
       "    </tr>\n",
       "  </tbody>\n",
       "</table>\n",
       "</div>"
      ],
      "text/plain": [
       "     fn  idx\n",
       "26  164   26\n",
       "55  174   55\n",
       "22  177   22\n",
       "21  178   21\n",
       "15  183   15\n",
       "9   183    9"
      ]
     },
     "execution_count": 89,
     "metadata": {},
     "output_type": "execute_result"
    }
   ],
   "source": [
    "a = a.sort_values(by=['fn'], ascending=True)\n",
    "a.head(6)"
   ]
  },
  {
   "cell_type": "markdown",
   "metadata": {},
   "source": [
    "Portanto, as dezenas 26, 55, 22, 21, 15, 9 poderiam ser candidatos interessantes para serem apostados.\n",
    "\n",
    "De qualquer forma, a probabilidade individual de cada dezena continua a mesma e você pode contar, principalmente, com o acaso."
   ]
  },
  {
   "cell_type": "code",
   "execution_count": null,
   "metadata": {},
   "outputs": [],
   "source": []
  }
 ],
 "metadata": {
  "kernelspec": {
   "display_name": "Python 3",
   "language": "python",
   "name": "python3"
  },
  "language_info": {
   "codemirror_mode": {
    "name": "ipython",
    "version": 3
   },
   "file_extension": ".py",
   "mimetype": "text/x-python",
   "name": "python",
   "nbconvert_exporter": "python",
   "pygments_lexer": "ipython3",
   "version": "3.6.4"
  }
 },
 "nbformat": 4,
 "nbformat_minor": 2
}
